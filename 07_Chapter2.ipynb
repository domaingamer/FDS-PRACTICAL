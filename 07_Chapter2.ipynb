{
  "nbformat": 4,
  "nbformat_minor": 0,
  "metadata": {
    "colab": {
      "name": "Chapter2_06_Prajapati_Sonu.ipynb",
      "provenance": []
    },
    "kernelspec": {
      "name": "python3",
      "display_name": "Python 3"
    },
    "language_info": {
      "name": "python"
    }
  },
  "cells": [
    {
      "cell_type": "code",
      "metadata": {
        "colab": {
          "base_uri": "https://localhost:8080/"
        },
        "id": "9BcZWwgpB4IO",
        "outputId": "39a36a5e-33e1-4b84-ef62-6af7641880f1"
      },
      "source": [
        "import numpy as np\n",
        "results = [5, 4, 3, 4, 5, 3, 2, 5, 3, 2, 1, 4, 5, 3, 4, 4, 5, 4, 2, 1,\n",
        "4, 5, 4, 3, 2, 4, 4, 5, 4, 3, 2, 1]\n",
        "sorted_results = sorted(results)\n",
        "print(sorted_results)\n",
        "print(np.mean(results))\n",
        "print(np.median(results))"
      ],
      "execution_count": 1,
      "outputs": [
        {
          "output_type": "stream",
          "text": [
            "[1, 1, 1, 2, 2, 2, 2, 2, 3, 3, 3, 3, 3, 3, 4, 4, 4, 4, 4, 4, 4, 4, 4, 4, 4, 5, 5, 5, 5, 5, 5, 5]\n",
            "3.4375\n",
            "4.0\n"
          ],
          "name": "stdout"
        }
      ]
    },
    {
      "cell_type": "code",
      "metadata": {
        "colab": {
          "base_uri": "https://localhost:8080/"
        },
        "id": "JMBmILzRCCMn",
        "outputId": "b28874bf-54b2-4a4b-e934-5a4ce3d450ae"
      },
      "source": [
        "temps = [31, 32, 32, 31, 28, 29, 31, 38, 32, 31, 30, 29, 30, 31, 26]\n",
        "print(np.mean(temps))\n",
        "print(np.median(temps))"
      ],
      "execution_count": 2,
      "outputs": [
        {
          "output_type": "stream",
          "text": [
            "30.733333333333334\n",
            "31.0\n"
          ],
          "name": "stdout"
        }
      ]
    },
    {
      "cell_type": "code",
      "metadata": {
        "colab": {
          "base_uri": "https://localhost:8080/"
        },
        "id": "U4f8GsDZCJ-a",
        "outputId": "5712a2a5-1893-4bf4-ac40-ed44724efe55"
      },
      "source": [
        "temps = [31, 32, 32, 31, 28, 29, 31, 38, 32, 31, 30, 29, 30, 31, 26]\n",
        "mean = np.mean(temps) # == 30.73\n",
        "squared_differences = []\n",
        "\n",
        "# empty list o squared differences\n",
        "for temperature in temps:\n",
        "  difference = temperature - mean\n",
        "\n",
        "# how far is the point from the mean\n",
        "squared_difference = difference**2\n",
        "\n",
        "# square the difference\n",
        "squared_differences.append(squared_difference)\n",
        "\n",
        "# add it to our list\n",
        "average_squared_difference = np.mean(squared_differences)\n",
        "\n",
        "# This number is also called the \"Variance\"\n",
        "standard_deviation = np.sqrt(average_squared_difference)\n",
        "\n",
        "# We did it!\n",
        "print(standard_deviation)"
      ],
      "execution_count": 4,
      "outputs": [
        {
          "output_type": "stream",
          "text": [
            "4.733333333333334\n"
          ],
          "name": "stdout"
        }
      ]
    },
    {
      "cell_type": "code",
      "metadata": {
        "colab": {
          "base_uri": "https://localhost:8080/"
        },
        "id": "WL2j_lJxCDio",
        "outputId": "3406a9b7-1116-414d-aacc-c027174cdad4"
      },
      "source": [
        "temps = [31, 32, 32, 31, 28, 29, 31, 38, 32, 31, 30, 29, 30, 31, 26]\n",
        "num_items = len(temps)\n",
        "product = 1.\n",
        "for temperature in temps:\n",
        "  product *= temperature\n",
        "geometric_mean = product**(1./num_items)\n",
        "print(geometric_mean)"
      ],
      "execution_count": 5,
      "outputs": [
        {
          "output_type": "stream",
          "text": [
            "30.63473484374659\n"
          ],
          "name": "stdout"
        }
      ]
    },
    {
      "cell_type": "code",
      "metadata": {
        "id": "KshJ2wgVCUkP"
      },
      "source": [
        ""
      ],
      "execution_count": null,
      "outputs": []
    }
  ]
}