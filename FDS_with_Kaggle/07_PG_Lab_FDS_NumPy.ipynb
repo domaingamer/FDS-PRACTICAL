{
  "nbformat": 4,
  "nbformat_minor": 0,
  "metadata": {
    "colab": {
      "name": "06_PG Lab FDS S2 NumPy.ipynb",
      "provenance": []
    },
    "kernelspec": {
      "name": "python3",
      "display_name": "Python 3"
    },
    "language_info": {
      "name": "python"
    }
  },
  "cells": [
    {
      "cell_type": "code",
      "metadata": {
        "id": "x_w7Gnvdi5jc"
      },
      "source": [
        "import numpy as np"
      ],
      "execution_count": 9,
      "outputs": []
    },
    {
      "cell_type": "code",
      "metadata": {
        "colab": {
          "base_uri": "https://localhost:8080/"
        },
        "id": "fLiJjTJRi-dj",
        "outputId": "d8ca112d-5700-4bbe-c2e6-2bbe22fd078e"
      },
      "source": [
        "list1 = list(range(10))\n",
        "list1"
      ],
      "execution_count": 2,
      "outputs": [
        {
          "output_type": "execute_result",
          "data": {
            "text/plain": [
              "[0, 1, 2, 3, 4, 5, 6, 7, 8, 9]"
            ]
          },
          "metadata": {},
          "execution_count": 2
        }
      ]
    },
    {
      "cell_type": "code",
      "metadata": {
        "colab": {
          "base_uri": "https://localhost:8080/"
        },
        "id": "r13nG0iujFD4",
        "outputId": "a35a77e5-dc42-450c-9322-1fd32eea3f9f"
      },
      "source": [
        "type(list1)"
      ],
      "execution_count": 3,
      "outputs": [
        {
          "output_type": "execute_result",
          "data": {
            "text/plain": [
              "list"
            ]
          },
          "metadata": {},
          "execution_count": 3
        }
      ]
    },
    {
      "cell_type": "code",
      "metadata": {
        "colab": {
          "base_uri": "https://localhost:8080/"
        },
        "id": "s8_W8mV3kA_d",
        "outputId": "7eaa6fff-1b76-4da2-c2d3-931520473489"
      },
      "source": [
        "import array as ar\n",
        "L = list(range(10))\n",
        "A = ar.array('i',L)\n",
        "L"
      ],
      "execution_count": 20,
      "outputs": [
        {
          "output_type": "execute_result",
          "data": {
            "text/plain": [
              "[0, 1, 2, 3, 4, 5, 6, 7, 8, 9]"
            ]
          },
          "metadata": {},
          "execution_count": 20
        }
      ]
    },
    {
      "cell_type": "code",
      "metadata": {
        "id": "t6Z2UcPvlp8z"
      },
      "source": [
        ""
      ],
      "execution_count": null,
      "outputs": []
    },
    {
      "cell_type": "code",
      "metadata": {
        "colab": {
          "base_uri": "https://localhost:8080/"
        },
        "id": "EOcteeQ6lR3s",
        "outputId": "86e60f9c-c287-4549-8ece-bb532c3011ef"
      },
      "source": [
        "np.array([range(i,i+4) for i in [2,4,6,8]])\n"
      ],
      "execution_count": 12,
      "outputs": [
        {
          "output_type": "execute_result",
          "data": {
            "text/plain": [
              "array([[ 2,  3,  4,  5],\n",
              "       [ 4,  5,  6,  7],\n",
              "       [ 6,  7,  8,  9],\n",
              "       [ 8,  9, 10, 11]])"
            ]
          },
          "metadata": {},
          "execution_count": 12
        }
      ]
    },
    {
      "cell_type": "code",
      "metadata": {
        "colab": {
          "base_uri": "https://localhost:8080/"
        },
        "id": "c_VmZng3lssZ",
        "outputId": "7a532dbb-c597-4261-f048-ab0fc69e9535"
      },
      "source": [
        "np.zeros(10,dtype=int)"
      ],
      "execution_count": 13,
      "outputs": [
        {
          "output_type": "execute_result",
          "data": {
            "text/plain": [
              "array([0, 0, 0, 0, 0, 0, 0, 0, 0, 0])"
            ]
          },
          "metadata": {},
          "execution_count": 13
        }
      ]
    },
    {
      "cell_type": "code",
      "metadata": {
        "colab": {
          "base_uri": "https://localhost:8080/"
        },
        "id": "ENHzTDM-kW3N",
        "outputId": "ba8641a7-180d-4412-a197-bcd3741c26ff"
      },
      "source": [
        "np.zeros((2,5),dtype= float)"
      ],
      "execution_count": 16,
      "outputs": [
        {
          "output_type": "execute_result",
          "data": {
            "text/plain": [
              "array([[0., 0., 0., 0., 0.],\n",
              "       [0., 0., 0., 0., 0.]])"
            ]
          },
          "metadata": {},
          "execution_count": 16
        }
      ]
    },
    {
      "cell_type": "code",
      "metadata": {
        "colab": {
          "base_uri": "https://localhost:8080/"
        },
        "id": "_h5zT6_1kOwX",
        "outputId": "e0b7f8bf-5fc1-4d66-ded8-7d6387b28c24"
      },
      "source": [
        "np.ones((2,5),dtype= float)"
      ],
      "execution_count": 17,
      "outputs": [
        {
          "output_type": "execute_result",
          "data": {
            "text/plain": [
              "array([[1., 1., 1., 1., 1.],\n",
              "       [1., 1., 1., 1., 1.]])"
            ]
          },
          "metadata": {},
          "execution_count": 17
        }
      ]
    },
    {
      "cell_type": "code",
      "metadata": {
        "colab": {
          "base_uri": "https://localhost:8080/"
        },
        "id": "m-GmKNiSm-c7",
        "outputId": "ca8050c0-4aef-4e08-ef8a-b14c0e72508c"
      },
      "source": [
        "np.full((3,5),3.0)"
      ],
      "execution_count": 18,
      "outputs": [
        {
          "output_type": "execute_result",
          "data": {
            "text/plain": [
              "array([[3., 3., 3., 3., 3.],\n",
              "       [3., 3., 3., 3., 3.],\n",
              "       [3., 3., 3., 3., 3.]])"
            ]
          },
          "metadata": {},
          "execution_count": 18
        }
      ]
    },
    {
      "cell_type": "code",
      "metadata": {
        "colab": {
          "base_uri": "https://localhost:8080/"
        },
        "id": "e3BNCQfVnSej",
        "outputId": "ae151717-b010-4189-c324-8f6df6e185ae"
      },
      "source": [
        "np.arange(0,20,3)"
      ],
      "execution_count": 19,
      "outputs": [
        {
          "output_type": "execute_result",
          "data": {
            "text/plain": [
              "array([ 0,  3,  6,  9, 12, 15, 18])"
            ]
          },
          "metadata": {},
          "execution_count": 19
        }
      ]
    },
    {
      "cell_type": "code",
      "metadata": {
        "colab": {
          "base_uri": "https://localhost:8080/",
          "height": 135
        },
        "id": "5AZRKsw5nrFz",
        "outputId": "6b61af13-51d2-46eb-fb26-22e6557aad7d"
      },
      "source": [
        "np.array((i,i+0.5)for i in [0,1]"
      ],
      "execution_count": 22,
      "outputs": [
        {
          "output_type": "error",
          "ename": "SyntaxError",
          "evalue": "ignored",
          "traceback": [
            "\u001b[0;36m  File \u001b[0;32m\"<ipython-input-22-c56d9fdfafd1>\"\u001b[0;36m, line \u001b[0;32m1\u001b[0m\n\u001b[0;31m    np.array((i,i+0.5)for i in [0,1]\u001b[0m\n\u001b[0m                                    ^\u001b[0m\n\u001b[0;31mSyntaxError\u001b[0m\u001b[0;31m:\u001b[0m unexpected EOF while parsing\n"
          ]
        }
      ]
    },
    {
      "cell_type": "code",
      "metadata": {
        "colab": {
          "base_uri": "https://localhost:8080/"
        },
        "id": "NSs4fCfZotTl",
        "outputId": "3b47aa2a-62a0-4c8e-c3c4-df1c54976fb3"
      },
      "source": [
        "np.linspace(0,1,10)"
      ],
      "execution_count": 26,
      "outputs": [
        {
          "output_type": "execute_result",
          "data": {
            "text/plain": [
              "array([0.        , 0.11111111, 0.22222222, 0.33333333, 0.44444444,\n",
              "       0.55555556, 0.66666667, 0.77777778, 0.88888889, 1.        ])"
            ]
          },
          "metadata": {},
          "execution_count": 26
        }
      ]
    },
    {
      "cell_type": "code",
      "metadata": {
        "colab": {
          "base_uri": "https://localhost:8080/"
        },
        "id": "jMSomLAJo5SS",
        "outputId": "b335b45f-4794-42e4-9822-989bf7e8bac0"
      },
      "source": [
        "np.random.random((3,4))"
      ],
      "execution_count": 29,
      "outputs": [
        {
          "output_type": "execute_result",
          "data": {
            "text/plain": [
              "array([[0.15670655, 0.24661678, 0.78162059, 0.69482804],\n",
              "       [0.25132883, 0.91123915, 0.21671631, 0.47229127],\n",
              "       [0.37956903, 0.23691309, 0.27461913, 0.61036909]])"
            ]
          },
          "metadata": {},
          "execution_count": 29
        }
      ]
    },
    {
      "cell_type": "code",
      "metadata": {
        "colab": {
          "base_uri": "https://localhost:8080/"
        },
        "id": "5-SReDOhpTNQ",
        "outputId": "46a213ef-51d4-4155-ff3f-7f4973d264db"
      },
      "source": [
        "np.random.normal(0,1,(3,3))"
      ],
      "execution_count": 30,
      "outputs": [
        {
          "output_type": "execute_result",
          "data": {
            "text/plain": [
              "array([[-0.54963809, -0.1765569 ,  0.37244848],\n",
              "       [ 1.13103591, -0.86488137, -1.12521918],\n",
              "       [-0.4853753 , -1.62984138, -0.41713986]])"
            ]
          },
          "metadata": {},
          "execution_count": 30
        }
      ]
    },
    {
      "cell_type": "code",
      "metadata": {
        "colab": {
          "base_uri": "https://localhost:8080/"
        },
        "id": "NoVZuAP1pzcU",
        "outputId": "3e270c63-4ce8-4b3a-e43a-722f38aede34"
      },
      "source": [
        "np.random.randint(0,10,(3,3))"
      ],
      "execution_count": 31,
      "outputs": [
        {
          "output_type": "execute_result",
          "data": {
            "text/plain": [
              "array([[0, 7, 9],\n",
              "       [3, 0, 1],\n",
              "       [7, 7, 8]])"
            ]
          },
          "metadata": {},
          "execution_count": 31
        }
      ]
    },
    {
      "cell_type": "code",
      "metadata": {
        "colab": {
          "base_uri": "https://localhost:8080/"
        },
        "id": "rR132MS0qLCy",
        "outputId": "619ec29d-a5d3-4398-ad7a-7934eda58a3b"
      },
      "source": [
        "np.eye(3)"
      ],
      "execution_count": 32,
      "outputs": [
        {
          "output_type": "execute_result",
          "data": {
            "text/plain": [
              "array([[1., 0., 0.],\n",
              "       [0., 1., 0.],\n",
              "       [0., 0., 1.]])"
            ]
          },
          "metadata": {},
          "execution_count": 32
        }
      ]
    },
    {
      "cell_type": "code",
      "metadata": {
        "colab": {
          "base_uri": "https://localhost:8080/"
        },
        "id": "_lIOsZn4qSjA",
        "outputId": "d1bfa0f9-f45f-4fc7-c30c-3c169070d6c3"
      },
      "source": [
        "np.empty(3)"
      ],
      "execution_count": 33,
      "outputs": [
        {
          "output_type": "execute_result",
          "data": {
            "text/plain": [
              "array([1., 1., 1.])"
            ]
          },
          "metadata": {},
          "execution_count": 33
        }
      ]
    },
    {
      "cell_type": "code",
      "metadata": {
        "colab": {
          "base_uri": "https://localhost:8080/"
        },
        "id": "0KoODoQ9qtbA",
        "outputId": "aba32857-01a0-4a36-c92d-4ce3a766774a"
      },
      "source": [
        "np.random.seed(20)\n",
        "x1 = np.random.randint(10,size=6)\n",
        "x1"
      ],
      "execution_count": 38,
      "outputs": [
        {
          "output_type": "execute_result",
          "data": {
            "text/plain": [
              "array([3, 9, 4, 6, 7, 2])"
            ]
          },
          "metadata": {},
          "execution_count": 38
        }
      ]
    },
    {
      "cell_type": "code",
      "metadata": {
        "colab": {
          "base_uri": "https://localhost:8080/"
        },
        "id": "7oudHgclr8Jj",
        "outputId": "0dba3483-e5a0-44f7-b267-a89a5469fd04"
      },
      "source": [
        "np.random.seed(100)\n",
        "x2 = np.random.randint(200,size=(3,2,5,2,2))\n",
        "x2"
      ],
      "execution_count": 42,
      "outputs": [
        {
          "output_type": "execute_result",
          "data": {
            "text/plain": [
              "array([[[[[  8,  24],\n",
              "          [ 67, 103]],\n",
              "\n",
              "         [[ 87,  79],\n",
              "          [176, 138]],\n",
              "\n",
              "         [[ 94, 180],\n",
              "          [ 98,  53]],\n",
              "\n",
              "         [[ 66,  14],\n",
              "          [ 34,  24]],\n",
              "\n",
              "         [[143, 107],\n",
              "          [ 60,  58]]],\n",
              "\n",
              "\n",
              "        [[[144, 137],\n",
              "          [ 93,  86]],\n",
              "\n",
              "         [[130, 155],\n",
              "          [108, 132]],\n",
              "\n",
              "         [[159, 129],\n",
              "          [141, 100]],\n",
              "\n",
              "         [[  4,  91],\n",
              "          [187,  67]],\n",
              "\n",
              "         [[135,  49],\n",
              "          [175, 193]]]],\n",
              "\n",
              "\n",
              "\n",
              "       [[[[ 61,  14],\n",
              "          [183, 199]],\n",
              "\n",
              "         [[ 80,   2],\n",
              "          [121, 105]],\n",
              "\n",
              "         [[147,  63],\n",
              "          [181,  27]],\n",
              "\n",
              "         [[ 56, 113],\n",
              "          [158, 176]],\n",
              "\n",
              "         [[ 47, 167],\n",
              "          [109,  38]]],\n",
              "\n",
              "\n",
              "        [[[172,  18],\n",
              "          [192, 184]],\n",
              "\n",
              "         [[162, 181],\n",
              "          [ 17,  72]],\n",
              "\n",
              "         [[ 13, 106],\n",
              "          [ 30,  17]],\n",
              "\n",
              "         [[ 53,  68],\n",
              "          [178,  91]],\n",
              "\n",
              "         [[181,  78],\n",
              "          [  0,  13]]]],\n",
              "\n",
              "\n",
              "\n",
              "       [[[[185, 106],\n",
              "          [131,  70]],\n",
              "\n",
              "         [[131, 138],\n",
              "          [188, 131]],\n",
              "\n",
              "         [[105, 176],\n",
              "          [180,  43]],\n",
              "\n",
              "         [[ 36,   5],\n",
              "          [ 71,  38]],\n",
              "\n",
              "         [[ 94, 170],\n",
              "          [ 84,  95]]],\n",
              "\n",
              "\n",
              "        [[[114, 119],\n",
              "          [ 76,  33]],\n",
              "\n",
              "         [[ 58, 102],\n",
              "          [170, 150]],\n",
              "\n",
              "         [[  0, 183],\n",
              "          [147,  53]],\n",
              "\n",
              "         [[196, 190],\n",
              "          [ 50, 196]],\n",
              "\n",
              "         [[163, 151],\n",
              "          [  9, 176]]]]])"
            ]
          },
          "metadata": {},
          "execution_count": 42
        }
      ]
    },
    {
      "cell_type": "code",
      "metadata": {
        "colab": {
          "base_uri": "https://localhost:8080/"
        },
        "id": "jH7r1lrytMRo",
        "outputId": "bca71eeb-0816-4aea-9471-2e50c6ec4412"
      },
      "source": [
        "x2.shape"
      ],
      "execution_count": 43,
      "outputs": [
        {
          "output_type": "execute_result",
          "data": {
            "text/plain": [
              "(3, 2, 5, 2, 2)"
            ]
          },
          "metadata": {},
          "execution_count": 43
        }
      ]
    },
    {
      "cell_type": "code",
      "metadata": {
        "colab": {
          "base_uri": "https://localhost:8080/"
        },
        "id": "qCte291dwStZ",
        "outputId": "abf012e8-06e7-4267-9836-f4020581c20b"
      },
      "source": [
        "x2.ndim"
      ],
      "execution_count": 44,
      "outputs": [
        {
          "output_type": "execute_result",
          "data": {
            "text/plain": [
              "5"
            ]
          },
          "metadata": {},
          "execution_count": 44
        }
      ]
    },
    {
      "cell_type": "code",
      "metadata": {
        "colab": {
          "base_uri": "https://localhost:8080/"
        },
        "id": "HAb82-8BwVCv",
        "outputId": "f56554f0-1855-40ca-8de0-4bf83f827f2f"
      },
      "source": [
        "x2.size"
      ],
      "execution_count": 45,
      "outputs": [
        {
          "output_type": "execute_result",
          "data": {
            "text/plain": [
              "120"
            ]
          },
          "metadata": {},
          "execution_count": 45
        }
      ]
    },
    {
      "cell_type": "code",
      "metadata": {
        "colab": {
          "base_uri": "https://localhost:8080/"
        },
        "id": "fbtBsGeHwf_p",
        "outputId": "51d7f9d5-c8fb-44f8-9954-3762d3341386"
      },
      "source": [
        "x2.nbytes"
      ],
      "execution_count": 46,
      "outputs": [
        {
          "output_type": "execute_result",
          "data": {
            "text/plain": [
              "960"
            ]
          },
          "metadata": {},
          "execution_count": 46
        }
      ]
    },
    {
      "cell_type": "code",
      "metadata": {
        "colab": {
          "base_uri": "https://localhost:8080/"
        },
        "id": "NCxrZKFdwpzT",
        "outputId": "b9f48087-1069-45ae-df3b-4d7db262486f"
      },
      "source": [
        "x2.itemsize"
      ],
      "execution_count": 47,
      "outputs": [
        {
          "output_type": "execute_result",
          "data": {
            "text/plain": [
              "8"
            ]
          },
          "metadata": {},
          "execution_count": 47
        }
      ]
    },
    {
      "cell_type": "code",
      "metadata": {
        "id": "FU5h_Lj4wtz-"
      },
      "source": [
        ""
      ],
      "execution_count": null,
      "outputs": []
    }
  ]
}